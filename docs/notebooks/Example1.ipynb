{
 "cells": [
  {
   "cell_type": "code",
   "execution_count": 1,
   "id": "5508832c-79a3-4839-8dfd-17264e9b868f",
   "metadata": {},
   "outputs": [],
   "source": [
    "from micado_etc import ETC"
   ]
  },
  {
   "cell_type": "code",
   "execution_count": null,
   "id": "9a096545-296b-4625-8415-d9d60d56b9a7",
   "metadata": {},
   "outputs": [],
   "source": []
  }
 ],
 "metadata": {
  "kernelspec": {
   "display_name": "Python 3 (ipykernel)",
   "language": "python",
   "name": "python3"
  },
  "language_info": {
   "codemirror_mode": {
    "name": "ipython",
    "version": 3
   },
   "file_extension": ".py",
   "mimetype": "text/x-python",
   "name": "python",
   "nbconvert_exporter": "python",
   "pygments_lexer": "ipython3",
   "version": "3.8.5"
  }
 },
 "nbformat": 4,
 "nbformat_minor": 5
}

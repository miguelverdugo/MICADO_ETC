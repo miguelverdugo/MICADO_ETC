{
 "cells": [
  {
   "cell_type": "code",
   "execution_count": 1,
   "id": "5508832c-79a3-4839-8dfd-17264e9b868f",
   "metadata": {},
   "outputs": [],
   "source": [
    "from micado_etc import ETC"
   ]
  },
  {
   "cell_type": "code",
   "execution_count": 10,
   "id": "9a096545-296b-4625-8415-d9d60d56b9a7",
   "metadata": {},
   "outputs": [
    {
     "data": {
      "text/plain": [
       "<Spextrum(pickles/a0v)>"
      ]
     },
     "execution_count": 10,
     "metadata": {},
     "output_type": "execute_result"
    }
   ],
   "source": [
    "etc = ETC(mode=\"imaging\", pixel_size=0.004, ao_mode=\"SCAO\")\n",
    "\n",
    "etc.set_sed(\"template\", magnitude=14, template_name=\"pickles/a0v\", filter_curve=\"V\", redshift=0)\n",
    "etc._get_spectrum()"
   ]
  },
  {
   "cell_type": "code",
   "execution_count": null,
   "id": "9f9e9fee-9ec7-4320-9d22-58363127802d",
   "metadata": {},
   "outputs": [],
   "source": []
  }
 ],
 "metadata": {
  "kernelspec": {
   "display_name": "Python 3 (ipykernel)",
   "language": "python",
   "name": "python3"
  },
  "language_info": {
   "codemirror_mode": {
    "name": "ipython",
    "version": 3
   },
   "file_extension": ".py",
   "mimetype": "text/x-python",
   "name": "python",
   "nbconvert_exporter": "python",
   "pygments_lexer": "ipython3",
   "version": "3.8.5"
  }
 },
 "nbformat": 4,
 "nbformat_minor": 5
}

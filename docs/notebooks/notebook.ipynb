{
 "cells": [
  {
   "cell_type": "code",
   "execution_count": 2,
   "id": "5508832c-79a3-4839-8dfd-17264e9b868f",
   "metadata": {},
   "outputs": [],
   "source": [
    "from micado_etc import ETC\n",
    "import matplotlib.pyplot as plt"
   ]
  },
  {
   "cell_type": "code",
   "execution_count": 11,
   "id": "736334c2-fc8b-464e-b42d-7bb9dab66058",
   "metadata": {},
   "outputs": [
    {
     "data": {
      "text/plain": [
       "'/home/mverdugo/MyCodes/MICADO_ETC/docs/notebooks'"
      ]
     },
     "execution_count": 11,
     "metadata": {},
     "output_type": "execute_result"
    }
   ],
   "source": [
    "%pwd"
   ]
  },
  {
   "cell_type": "code",
   "execution_count": null,
   "id": "7eedb1bf-1b32-4a43-a766-7c010108faf9",
   "metadata": {},
   "outputs": [],
   "source": []
  },
  {
   "cell_type": "code",
   "execution_count": 8,
   "id": "9a096545-296b-4625-8415-d9d60d56b9a7",
   "metadata": {},
   "outputs": [],
   "source": [
    "etc = ETC(mode=\"imaging\", pixel_size=0.004, ao_mode=\"SCAO\")\n",
    "\n",
    "etc.set_sed(\"template\", magnitude=14, template_name=\"pickles/a0v\", filter_curve=\"V\") \n",
    "etc.set_target_flux_distribution(\"point_source\")\n",
    "etc.set_setup_obs(dit=60, ndit=4)\n",
    "etc.set_ao(profile_name=\"EsoQ1\", zen_dist=0, seeing=0.6)"
   ]
  },
  {
   "cell_type": "code",
   "execution_count": 9,
   "id": "9f9e9fee-9ec7-4320-9d22-58363127802d",
   "metadata": {},
   "outputs": [
    {
     "ename": "TypeError",
     "evalue": "point_source() missing 2 required positional arguments: 'sed' and 'filter_name'",
     "output_type": "error",
     "traceback": [
      "\u001b[0;31m---------------------------------------------------------------------------\u001b[0m",
      "\u001b[0;31mTypeError\u001b[0m                                 Traceback (most recent call last)",
      "\u001b[0;32m/tmp/ipykernel_18723/2396556624.py\u001b[0m in \u001b[0;36m<module>\u001b[0;34m\u001b[0m\n\u001b[0;32m----> 1\u001b[0;31m \u001b[0mimg1\u001b[0m\u001b[0;34m,\u001b[0m \u001b[0mimg2\u001b[0m \u001b[0;34m=\u001b[0m \u001b[0metc\u001b[0m\u001b[0;34m.\u001b[0m\u001b[0mrun\u001b[0m\u001b[0;34m(\u001b[0m\u001b[0;34m)\u001b[0m\u001b[0;34m\u001b[0m\u001b[0;34m\u001b[0m\u001b[0m\n\u001b[0m",
      "\u001b[0;32m~/MyCodes/MICADO_ETC/micado_etc/micado_etc.py\u001b[0m in \u001b[0;36mrun\u001b[0;34m(self, filename)\u001b[0m\n\u001b[1;32m    193\u001b[0m         \"\"\"\n\u001b[1;32m    194\u001b[0m \u001b[0;34m\u001b[0m\u001b[0m\n\u001b[0;32m--> 195\u001b[0;31m         \u001b[0msrc\u001b[0m \u001b[0;34m=\u001b[0m \u001b[0mself\u001b[0m\u001b[0;34m.\u001b[0m\u001b[0m_get_source\u001b[0m\u001b[0;34m(\u001b[0m\u001b[0;34m)\u001b[0m\u001b[0;34m\u001b[0m\u001b[0;34m\u001b[0m\u001b[0m\n\u001b[0m\u001b[1;32m    196\u001b[0m \u001b[0;34m\u001b[0m\u001b[0m\n\u001b[1;32m    197\u001b[0m         \u001b[0mpsf_effect\u001b[0m \u001b[0;34m=\u001b[0m \u001b[0mself\u001b[0m\u001b[0;34m.\u001b[0m\u001b[0m_get_psf\u001b[0m\u001b[0;34m(\u001b[0m\u001b[0;34m)\u001b[0m\u001b[0;34m\u001b[0m\u001b[0;34m\u001b[0m\u001b[0m\n",
      "\u001b[0;32m~/MyCodes/MICADO_ETC/micado_etc/micado_etc.py\u001b[0m in \u001b[0;36m_get_source\u001b[0;34m(self)\u001b[0m\n\u001b[1;32m    139\u001b[0m         \u001b[0mparams\u001b[0m \u001b[0;34m=\u001b[0m \u001b[0mself\u001b[0m\u001b[0;34m.\u001b[0m\u001b[0msource\u001b[0m\u001b[0;34m[\u001b[0m\u001b[0;34m\"params\"\u001b[0m\u001b[0;34m]\u001b[0m\u001b[0;34m\u001b[0m\u001b[0;34m\u001b[0m\u001b[0m\n\u001b[1;32m    140\u001b[0m \u001b[0;34m\u001b[0m\u001b[0m\n\u001b[0;32m--> 141\u001b[0;31m         src = src_func(self._get_spectrum(),\n\u001b[0m\u001b[1;32m    142\u001b[0m                        **params)\n\u001b[1;32m    143\u001b[0m         src.shift(dx=dist,\n",
      "\u001b[0;31mTypeError\u001b[0m: point_source() missing 2 required positional arguments: 'sed' and 'filter_name'"
     ]
    }
   ],
   "source": [
    "img1, img2 = etc.run()"
   ]
  },
  {
   "cell_type": "code",
   "execution_count": 63,
   "id": "3f10904a-81bd-42a5-895e-0a5f7bd9095a",
   "metadata": {},
   "outputs": [
    {
     "data": {
      "text/plain": [
       "<matplotlib.image.AxesImage at 0x7eff310947f0>"
      ]
     },
     "execution_count": 63,
     "metadata": {},
     "output_type": "execute_result"
    },
    {
     "data": {
      "image/png": "[encoded data removed]",
      "text/plain": [
       "<Figure size 432x288 with 1 Axes>"
      ]
     },
     "metadata": {
      "needs_background": "light"
     },
     "output_type": "display_data"
    }
   ],
   "source": [
    "plt.imshow(psf.get_kernel(fov))"
   ]
  }
 ],
 "metadata": {
  "kernelspec": {
   "display_name": "Python 3 (ipykernel)",
   "language": "python",
   "name": "python3"
  },
  "language_info": {
   "codemirror_mode": {
    "name": "ipython",
    "version": 3
   },
   "file_extension": ".py",
   "mimetype": "text/x-python",
   "name": "python",
   "nbconvert_exporter": "python",
   "pygments_lexer": "ipython3",
   "version": "3.8.5"
  }
 },
 "nbformat": 4,
 "nbformat_minor": 5
}
